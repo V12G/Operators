{
 "cells": [
  {
   "cell_type": "code",
   "execution_count": 1,
   "id": "8a26f95a",
   "metadata": {},
   "outputs": [
    {
     "name": "stdout",
     "output_type": "stream",
     "text": [
      "Enter a number1234\n",
      "123\n"
     ]
    }
   ],
   "source": [
    "'''Write a python script to remove the last digit from a given number. (for example, if\n",
    "user enters 2534 then your output should be 253)'''\n",
    "a=int(input(\"Enter a number\"))\n",
    "print(str(a)[:-1])\n"
   ]
  },
  {
   "cell_type": "code",
   "execution_count": 2,
   "id": "aed8a4e6",
   "metadata": {},
   "outputs": [
    {
     "name": "stdout",
     "output_type": "stream",
     "text": [
      "Enter a number1234\n",
      "Last digit of the number is: 4\n"
     ]
    }
   ],
   "source": [
    "'''Write a python script to get the last digit from a given number. (for example, if user\n",
    "enters 2089 then your output should be 9)'''\n",
    "a=int(input(\"Enter a number\"))\n",
    "last_digit=a%10\n",
    "print(\"Last digit of the number is:\",last_digit)"
   ]
  },
  {
   "cell_type": "code",
   "execution_count": 9,
   "id": "31598db5",
   "metadata": {},
   "outputs": [
    {
     "name": "stdout",
     "output_type": "stream",
     "text": [
      "b is: Vaibhav\n",
      "a is: Giri\n"
     ]
    }
   ],
   "source": [
    "# Write a python script to swap data of two variables.\n",
    "a=\"Vaibhav\"\n",
    "b=\"Giri\"\n",
    "a,b=b,a\n",
    "print(\"b is:\",b)\n",
    "print(\"a is:\",a)"
   ]
  },
  {
   "cell_type": "code",
   "execution_count": 11,
   "id": "a860ed7e",
   "metadata": {},
   "outputs": [
    {
     "name": "stdout",
     "output_type": "stream",
     "text": [
      "Enter base number:12\n",
      "Enter exponent number:2\n",
      "144\n"
     ]
    }
   ],
   "source": [
    "# Write a python script to find x power y, where values of x and y are given by user.\n",
    "x=int(input(\"Enter base number:\"))\n",
    "y=int(input(\"Enter exponent number:\"))\n",
    "print(x**y)"
   ]
  },
  {
   "cell_type": "code",
   "execution_count": 17,
   "id": "e41e00cb",
   "metadata": {},
   "outputs": [
    {
     "name": "stdout",
     "output_type": "stream",
     "text": [
      "Enter any three digit number:123\n",
      "First digit of the number is: 1\n"
     ]
    }
   ],
   "source": [
    "'''Write a python script which takes a three digit number from the user and displays\n",
    "only its first digit.'''\n",
    "n=input(\"Enter any three digit number:\")\n",
    "print(\"First digit of the number is:\",n[:-2])"
   ]
  },
  {
   "cell_type": "code",
   "execution_count": 30,
   "id": "e496fc00",
   "metadata": {},
   "outputs": [
    {
     "name": "stdout",
     "output_type": "stream",
     "text": [
      "Middle digit is: 2\n"
     ]
    }
   ],
   "source": [
    "'''Write a python script which takes a three digit number from the user and displays\n",
    "only its middle digit.'''\n",
    "print(\"Middle digit is:\",n[1::3])"
   ]
  },
  {
   "cell_type": "code",
   "execution_count": 37,
   "id": "9e329d25",
   "metadata": {},
   "outputs": [
    {
     "name": "stdout",
     "output_type": "stream",
     "text": [
      "Enter any three digit number:123\n",
      "last digit of the number is: 3\n"
     ]
    }
   ],
   "source": [
    "'''Write a python script which takes a three digit number from the user and displays\n",
    "only its last digit.'''\n",
    "a=int(input(\"Enter any three digit number:\"))\n",
    "b=a%10\n",
    "print(\"last digit of the number is:\",b)"
   ]
  },
  {
   "cell_type": "code",
   "execution_count": 47,
   "id": "a0a1b113",
   "metadata": {},
   "outputs": [
    {
     "data": {
      "text/plain": [
       "True"
      ]
     },
     "execution_count": 47,
     "metadata": {},
     "output_type": "execute_result"
    }
   ],
   "source": [
    "# Write a python script to use IN operator to display the data present in the list.\n",
    "a=[\"vaibhav giri\",1,1.0,\"day\",4+3j,4]\n",
    "1 in a"
   ]
  },
  {
   "cell_type": "code",
   "execution_count": 48,
   "id": "5c633c68",
   "metadata": {},
   "outputs": [
    {
     "data": {
      "text/plain": [
       "True"
      ]
     },
     "execution_count": 48,
     "metadata": {},
     "output_type": "execute_result"
    }
   ],
   "source": [
    "# Write a python script to use NOT IN operator to display the data not present in list.\n",
    "3 not in a"
   ]
  },
  {
   "cell_type": "code",
   "execution_count": 49,
   "id": "3f8ae6ce",
   "metadata": {},
   "outputs": [
    {
     "data": {
      "text/plain": [
       "True"
      ]
     },
     "execution_count": 49,
     "metadata": {},
     "output_type": "execute_result"
    }
   ],
   "source": [
    "'''Write a python script to use IS operator to display if both variables are the same\n",
    "object or not?'''\n",
    "a=20\n",
    "b=20\n",
    "a is b"
   ]
  },
  {
   "cell_type": "code",
   "execution_count": null,
   "id": "5c223c7b",
   "metadata": {},
   "outputs": [],
   "source": []
  }
 ],
 "metadata": {
  "kernelspec": {
   "display_name": "Python 3 (ipykernel)",
   "language": "python",
   "name": "python3"
  },
  "language_info": {
   "codemirror_mode": {
    "name": "ipython",
    "version": 3
   },
   "file_extension": ".py",
   "mimetype": "text/x-python",
   "name": "python",
   "nbconvert_exporter": "python",
   "pygments_lexer": "ipython3",
   "version": "3.9.7"
  }
 },
 "nbformat": 4,
 "nbformat_minor": 5
}
